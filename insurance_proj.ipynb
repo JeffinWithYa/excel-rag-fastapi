{
  "cells": [
    {
      "cell_type": "code",
      "execution_count": 1,
      "metadata": {
        "colab": {
          "base_uri": "https://localhost:8080/"
        },
        "id": "zg4B6eKBsxNG",
        "outputId": "b35502c6-3d1a-4091-c022-ed3e1b0d57f2"
      },
      "outputs": [
        {
          "name": "stdout",
          "output_type": "stream",
          "text": [
            "Collecting llama-index\n",
            "  Downloading llama_index-0.12.13-py3-none-any.whl.metadata (12 kB)\n",
            "Collecting llama-index-agent-openai<0.5.0,>=0.4.0 (from llama-index)\n",
            "  Downloading llama_index_agent_openai-0.4.2-py3-none-any.whl.metadata (727 bytes)\n",
            "Collecting llama-index-cli<0.5.0,>=0.4.0 (from llama-index)\n",
            "  Downloading llama_index_cli-0.4.0-py3-none-any.whl.metadata (1.5 kB)\n",
            "Collecting llama-index-core<0.13.0,>=0.12.13 (from llama-index)\n",
            "  Downloading llama_index_core-0.12.13-py3-none-any.whl.metadata (2.5 kB)\n",
            "Collecting llama-index-embeddings-openai<0.4.0,>=0.3.0 (from llama-index)\n",
            "  Downloading llama_index_embeddings_openai-0.3.1-py3-none-any.whl.metadata (684 bytes)\n",
            "Collecting llama-index-indices-managed-llama-cloud>=0.4.0 (from llama-index)\n",
            "  Downloading llama_index_indices_managed_llama_cloud-0.6.4-py3-none-any.whl.metadata (3.6 kB)\n",
            "Collecting llama-index-llms-openai<0.4.0,>=0.3.0 (from llama-index)\n",
            "  Downloading llama_index_llms_openai-0.3.14-py3-none-any.whl.metadata (3.3 kB)\n",
            "Collecting llama-index-multi-modal-llms-openai<0.5.0,>=0.4.0 (from llama-index)\n",
            "  Downloading llama_index_multi_modal_llms_openai-0.4.2-py3-none-any.whl.metadata (726 bytes)\n",
            "Collecting llama-index-program-openai<0.4.0,>=0.3.0 (from llama-index)\n",
            "  Downloading llama_index_program_openai-0.3.1-py3-none-any.whl.metadata (764 bytes)\n",
            "Collecting llama-index-question-gen-openai<0.4.0,>=0.3.0 (from llama-index)\n",
            "  Downloading llama_index_question_gen_openai-0.3.0-py3-none-any.whl.metadata (783 bytes)\n",
            "Collecting llama-index-readers-file<0.5.0,>=0.4.0 (from llama-index)\n",
            "  Downloading llama_index_readers_file-0.4.4-py3-none-any.whl.metadata (5.4 kB)\n",
            "Collecting llama-index-readers-llama-parse>=0.4.0 (from llama-index)\n",
            "  Downloading llama_index_readers_llama_parse-0.4.0-py3-none-any.whl.metadata (3.6 kB)\n",
            "Collecting nltk>3.8.1 (from llama-index)\n",
            "  Using cached nltk-3.9.1-py3-none-any.whl.metadata (2.9 kB)\n",
            "Collecting openai>=1.14.0 (from llama-index-agent-openai<0.5.0,>=0.4.0->llama-index)\n",
            "  Downloading openai-1.60.0-py3-none-any.whl.metadata (27 kB)\n",
            "Collecting PyYAML>=6.0.1 (from llama-index-core<0.13.0,>=0.12.13->llama-index)\n",
            "  Using cached PyYAML-6.0.2-cp313-cp313-macosx_11_0_arm64.whl.metadata (2.1 kB)\n",
            "Collecting SQLAlchemy>=1.4.49 (from SQLAlchemy[asyncio]>=1.4.49->llama-index-core<0.13.0,>=0.12.13->llama-index)\n",
            "  Downloading SQLAlchemy-2.0.37-cp313-cp313-macosx_11_0_arm64.whl.metadata (9.6 kB)\n",
            "Collecting aiohttp<4.0.0,>=3.8.6 (from llama-index-core<0.13.0,>=0.12.13->llama-index)\n",
            "  Using cached aiohttp-3.11.11-cp313-cp313-macosx_11_0_arm64.whl.metadata (7.7 kB)\n",
            "Collecting dataclasses-json (from llama-index-core<0.13.0,>=0.12.13->llama-index)\n",
            "  Downloading dataclasses_json-0.6.7-py3-none-any.whl.metadata (25 kB)\n",
            "Collecting deprecated>=1.2.9.3 (from llama-index-core<0.13.0,>=0.12.13->llama-index)\n",
            "  Downloading Deprecated-1.2.15-py2.py3-none-any.whl.metadata (5.5 kB)\n",
            "Collecting dirtyjson<2.0.0,>=1.0.8 (from llama-index-core<0.13.0,>=0.12.13->llama-index)\n",
            "  Downloading dirtyjson-1.0.8-py3-none-any.whl.metadata (11 kB)\n",
            "Collecting filetype<2.0.0,>=1.2.0 (from llama-index-core<0.13.0,>=0.12.13->llama-index)\n",
            "  Downloading filetype-1.2.0-py2.py3-none-any.whl.metadata (6.5 kB)\n",
            "Collecting fsspec>=2023.5.0 (from llama-index-core<0.13.0,>=0.12.13->llama-index)\n",
            "  Using cached fsspec-2024.12.0-py3-none-any.whl.metadata (11 kB)\n",
            "Collecting httpx (from llama-index-core<0.13.0,>=0.12.13->llama-index)\n",
            "  Using cached httpx-0.28.1-py3-none-any.whl.metadata (7.1 kB)\n",
            "Requirement already satisfied: nest-asyncio<2.0.0,>=1.5.8 in ./.venv/lib/python3.13/site-packages (from llama-index-core<0.13.0,>=0.12.13->llama-index) (1.6.0)\n",
            "Collecting networkx>=3.0 (from llama-index-core<0.13.0,>=0.12.13->llama-index)\n",
            "  Using cached networkx-3.4.2-py3-none-any.whl.metadata (6.3 kB)\n",
            "Collecting numpy (from llama-index-core<0.13.0,>=0.12.13->llama-index)\n",
            "  Downloading numpy-2.2.2-cp313-cp313-macosx_11_0_arm64.whl.metadata (116 kB)\n",
            "Collecting pillow>=9.0.0 (from llama-index-core<0.13.0,>=0.12.13->llama-index)\n",
            "  Using cached pillow-11.1.0-cp313-cp313-macosx_11_0_arm64.whl.metadata (9.1 kB)\n",
            "Collecting pydantic>=2.8.0 (from llama-index-core<0.13.0,>=0.12.13->llama-index)\n",
            "  Using cached pydantic-2.10.5-py3-none-any.whl.metadata (30 kB)\n",
            "Collecting requests>=2.31.0 (from llama-index-core<0.13.0,>=0.12.13->llama-index)\n",
            "  Using cached requests-2.32.3-py3-none-any.whl.metadata (4.6 kB)\n",
            "Collecting tenacity!=8.4.0,<10.0.0,>=8.2.0 (from llama-index-core<0.13.0,>=0.12.13->llama-index)\n",
            "  Using cached tenacity-9.0.0-py3-none-any.whl.metadata (1.2 kB)\n",
            "Collecting tiktoken>=0.3.3 (from llama-index-core<0.13.0,>=0.12.13->llama-index)\n",
            "  Downloading tiktoken-0.8.0-cp313-cp313-macosx_11_0_arm64.whl.metadata (6.6 kB)\n",
            "Collecting tqdm<5.0.0,>=4.66.1 (from llama-index-core<0.13.0,>=0.12.13->llama-index)\n",
            "  Using cached tqdm-4.67.1-py3-none-any.whl.metadata (57 kB)\n",
            "Collecting typing-extensions>=4.5.0 (from llama-index-core<0.13.0,>=0.12.13->llama-index)\n",
            "  Using cached typing_extensions-4.12.2-py3-none-any.whl.metadata (3.0 kB)\n",
            "Collecting typing-inspect>=0.8.0 (from llama-index-core<0.13.0,>=0.12.13->llama-index)\n",
            "  Downloading typing_inspect-0.9.0-py3-none-any.whl.metadata (1.5 kB)\n",
            "Collecting wrapt (from llama-index-core<0.13.0,>=0.12.13->llama-index)\n",
            "  Downloading wrapt-1.17.2-cp313-cp313-macosx_11_0_arm64.whl.metadata (6.4 kB)\n",
            "Collecting llama-cloud<0.2.0,>=0.1.8 (from llama-index-indices-managed-llama-cloud>=0.4.0->llama-index)\n",
            "  Downloading llama_cloud-0.1.10-py3-none-any.whl.metadata (912 bytes)\n",
            "Collecting beautifulsoup4<5.0.0,>=4.12.3 (from llama-index-readers-file<0.5.0,>=0.4.0->llama-index)\n",
            "  Downloading beautifulsoup4-4.12.3-py3-none-any.whl.metadata (3.8 kB)\n",
            "Collecting pandas (from llama-index-readers-file<0.5.0,>=0.4.0->llama-index)\n",
            "  Using cached pandas-2.2.3-cp313-cp313-macosx_11_0_arm64.whl.metadata (89 kB)\n",
            "Collecting pypdf<6.0.0,>=5.1.0 (from llama-index-readers-file<0.5.0,>=0.4.0->llama-index)\n",
            "  Downloading pypdf-5.1.0-py3-none-any.whl.metadata (7.2 kB)\n",
            "Collecting striprtf<0.0.27,>=0.0.26 (from llama-index-readers-file<0.5.0,>=0.4.0->llama-index)\n",
            "  Downloading striprtf-0.0.26-py3-none-any.whl.metadata (2.1 kB)\n",
            "Collecting llama-parse>=0.5.0 (from llama-index-readers-llama-parse>=0.4.0->llama-index)\n",
            "  Downloading llama_parse-0.5.20-py3-none-any.whl.metadata (6.9 kB)\n",
            "Collecting click (from nltk>3.8.1->llama-index)\n",
            "  Using cached click-8.1.8-py3-none-any.whl.metadata (2.3 kB)\n",
            "Collecting joblib (from nltk>3.8.1->llama-index)\n",
            "  Using cached joblib-1.4.2-py3-none-any.whl.metadata (5.4 kB)\n",
            "Collecting regex>=2021.8.3 (from nltk>3.8.1->llama-index)\n",
            "  Using cached regex-2024.11.6-cp313-cp313-macosx_11_0_arm64.whl.metadata (40 kB)\n",
            "Collecting aiohappyeyeballs>=2.3.0 (from aiohttp<4.0.0,>=3.8.6->llama-index-core<0.13.0,>=0.12.13->llama-index)\n",
            "  Using cached aiohappyeyeballs-2.4.4-py3-none-any.whl.metadata (6.1 kB)\n",
            "Collecting aiosignal>=1.1.2 (from aiohttp<4.0.0,>=3.8.6->llama-index-core<0.13.0,>=0.12.13->llama-index)\n",
            "  Using cached aiosignal-1.3.2-py2.py3-none-any.whl.metadata (3.8 kB)\n",
            "Collecting attrs>=17.3.0 (from aiohttp<4.0.0,>=3.8.6->llama-index-core<0.13.0,>=0.12.13->llama-index)\n",
            "  Using cached attrs-24.3.0-py3-none-any.whl.metadata (11 kB)\n",
            "Collecting frozenlist>=1.1.1 (from aiohttp<4.0.0,>=3.8.6->llama-index-core<0.13.0,>=0.12.13->llama-index)\n",
            "  Using cached frozenlist-1.5.0-cp313-cp313-macosx_11_0_arm64.whl.metadata (13 kB)\n",
            "Collecting multidict<7.0,>=4.5 (from aiohttp<4.0.0,>=3.8.6->llama-index-core<0.13.0,>=0.12.13->llama-index)\n",
            "  Using cached multidict-6.1.0-cp313-cp313-macosx_11_0_arm64.whl.metadata (5.0 kB)\n",
            "Collecting propcache>=0.2.0 (from aiohttp<4.0.0,>=3.8.6->llama-index-core<0.13.0,>=0.12.13->llama-index)\n",
            "  Using cached propcache-0.2.1-cp313-cp313-macosx_11_0_arm64.whl.metadata (9.2 kB)\n",
            "Collecting yarl<2.0,>=1.17.0 (from aiohttp<4.0.0,>=3.8.6->llama-index-core<0.13.0,>=0.12.13->llama-index)\n",
            "  Using cached yarl-1.18.3-cp313-cp313-macosx_11_0_arm64.whl.metadata (69 kB)\n",
            "Collecting soupsieve>1.2 (from beautifulsoup4<5.0.0,>=4.12.3->llama-index-readers-file<0.5.0,>=0.4.0->llama-index)\n",
            "  Downloading soupsieve-2.6-py3-none-any.whl.metadata (4.6 kB)\n",
            "Collecting certifi<2025.0.0,>=2024.7.4 (from llama-cloud<0.2.0,>=0.1.8->llama-index-indices-managed-llama-cloud>=0.4.0->llama-index)\n",
            "  Using cached certifi-2024.12.14-py3-none-any.whl.metadata (2.3 kB)\n",
            "Collecting anyio (from httpx->llama-index-core<0.13.0,>=0.12.13->llama-index)\n",
            "  Using cached anyio-4.8.0-py3-none-any.whl.metadata (4.6 kB)\n",
            "Collecting httpcore==1.* (from httpx->llama-index-core<0.13.0,>=0.12.13->llama-index)\n",
            "  Using cached httpcore-1.0.7-py3-none-any.whl.metadata (21 kB)\n",
            "Collecting idna (from httpx->llama-index-core<0.13.0,>=0.12.13->llama-index)\n",
            "  Using cached idna-3.10-py3-none-any.whl.metadata (10 kB)\n",
            "Collecting h11<0.15,>=0.13 (from httpcore==1.*->httpx->llama-index-core<0.13.0,>=0.12.13->llama-index)\n",
            "  Using cached h11-0.14.0-py3-none-any.whl.metadata (8.2 kB)\n",
            "Collecting distro<2,>=1.7.0 (from openai>=1.14.0->llama-index-agent-openai<0.5.0,>=0.4.0->llama-index)\n",
            "  Using cached distro-1.9.0-py3-none-any.whl.metadata (6.8 kB)\n",
            "Collecting jiter<1,>=0.4.0 (from openai>=1.14.0->llama-index-agent-openai<0.5.0,>=0.4.0->llama-index)\n",
            "  Downloading jiter-0.8.2-cp313-cp313-macosx_11_0_arm64.whl.metadata (5.2 kB)\n",
            "Collecting sniffio (from openai>=1.14.0->llama-index-agent-openai<0.5.0,>=0.4.0->llama-index)\n",
            "  Using cached sniffio-1.3.1-py3-none-any.whl.metadata (3.9 kB)\n",
            "Collecting annotated-types>=0.6.0 (from pydantic>=2.8.0->llama-index-core<0.13.0,>=0.12.13->llama-index)\n",
            "  Using cached annotated_types-0.7.0-py3-none-any.whl.metadata (15 kB)\n",
            "Collecting pydantic-core==2.27.2 (from pydantic>=2.8.0->llama-index-core<0.13.0,>=0.12.13->llama-index)\n",
            "  Using cached pydantic_core-2.27.2-cp313-cp313-macosx_11_0_arm64.whl.metadata (6.6 kB)\n",
            "Collecting charset-normalizer<4,>=2 (from requests>=2.31.0->llama-index-core<0.13.0,>=0.12.13->llama-index)\n",
            "  Using cached charset_normalizer-3.4.1-cp313-cp313-macosx_10_13_universal2.whl.metadata (35 kB)\n",
            "Collecting urllib3<3,>=1.21.1 (from requests>=2.31.0->llama-index-core<0.13.0,>=0.12.13->llama-index)\n",
            "  Using cached urllib3-2.3.0-py3-none-any.whl.metadata (6.5 kB)\n",
            "Collecting greenlet!=0.4.17 (from SQLAlchemy[asyncio]>=1.4.49->llama-index-core<0.13.0,>=0.12.13->llama-index)\n",
            "  Downloading greenlet-3.1.1-cp313-cp313-macosx_11_0_universal2.whl.metadata (3.8 kB)\n",
            "Collecting mypy-extensions>=0.3.0 (from typing-inspect>=0.8.0->llama-index-core<0.13.0,>=0.12.13->llama-index)\n",
            "  Downloading mypy_extensions-1.0.0-py3-none-any.whl.metadata (1.1 kB)\n",
            "Collecting marshmallow<4.0.0,>=3.18.0 (from dataclasses-json->llama-index-core<0.13.0,>=0.12.13->llama-index)\n",
            "  Downloading marshmallow-3.26.0-py3-none-any.whl.metadata (7.3 kB)\n",
            "Requirement already satisfied: python-dateutil>=2.8.2 in ./.venv/lib/python3.13/site-packages (from pandas->llama-index-readers-file<0.5.0,>=0.4.0->llama-index) (2.9.0.post0)\n",
            "Collecting pytz>=2020.1 (from pandas->llama-index-readers-file<0.5.0,>=0.4.0->llama-index)\n",
            "  Using cached pytz-2024.2-py2.py3-none-any.whl.metadata (22 kB)\n",
            "Collecting tzdata>=2022.7 (from pandas->llama-index-readers-file<0.5.0,>=0.4.0->llama-index)\n",
            "  Downloading tzdata-2025.1-py2.py3-none-any.whl.metadata (1.4 kB)\n",
            "Requirement already satisfied: packaging>=17.0 in ./.venv/lib/python3.13/site-packages (from marshmallow<4.0.0,>=3.18.0->dataclasses-json->llama-index-core<0.13.0,>=0.12.13->llama-index) (24.2)\n",
            "Requirement already satisfied: six>=1.5 in ./.venv/lib/python3.13/site-packages (from python-dateutil>=2.8.2->pandas->llama-index-readers-file<0.5.0,>=0.4.0->llama-index) (1.17.0)\n",
            "Downloading llama_index-0.12.13-py3-none-any.whl (6.9 kB)\n",
            "Downloading llama_index_agent_openai-0.4.2-py3-none-any.whl (13 kB)\n",
            "Downloading llama_index_cli-0.4.0-py3-none-any.whl (27 kB)\n",
            "Downloading llama_index_core-0.12.13-py3-none-any.whl (1.6 MB)\n",
            "\u001b[2K   \u001b[90m━━━━━━━━━━━━━━━━━━━━━━━━━━━━━━━━━━━━━━━━\u001b[0m \u001b[32m1.6/1.6 MB\u001b[0m \u001b[31m14.8 MB/s\u001b[0m eta \u001b[36m0:00:00\u001b[0m\n",
            "\u001b[?25hDownloading llama_index_embeddings_openai-0.3.1-py3-none-any.whl (6.2 kB)\n",
            "Downloading llama_index_indices_managed_llama_cloud-0.6.4-py3-none-any.whl (13 kB)\n",
            "Downloading llama_index_llms_openai-0.3.14-py3-none-any.whl (14 kB)\n",
            "Downloading llama_index_multi_modal_llms_openai-0.4.2-py3-none-any.whl (5.9 kB)\n",
            "Downloading llama_index_program_openai-0.3.1-py3-none-any.whl (5.3 kB)\n",
            "Downloading llama_index_question_gen_openai-0.3.0-py3-none-any.whl (2.9 kB)\n",
            "Downloading llama_index_readers_file-0.4.4-py3-none-any.whl (39 kB)\n",
            "Downloading llama_index_readers_llama_parse-0.4.0-py3-none-any.whl (2.5 kB)\n",
            "Using cached nltk-3.9.1-py3-none-any.whl (1.5 MB)\n",
            "Using cached aiohttp-3.11.11-cp313-cp313-macosx_11_0_arm64.whl (452 kB)\n",
            "Downloading beautifulsoup4-4.12.3-py3-none-any.whl (147 kB)\n",
            "Downloading Deprecated-1.2.15-py2.py3-none-any.whl (9.9 kB)\n",
            "Downloading dirtyjson-1.0.8-py3-none-any.whl (25 kB)\n",
            "Downloading filetype-1.2.0-py2.py3-none-any.whl (19 kB)\n",
            "Using cached fsspec-2024.12.0-py3-none-any.whl (183 kB)\n",
            "Downloading llama_cloud-0.1.10-py3-none-any.whl (247 kB)\n",
            "Downloading httpx-0.28.1-py3-none-any.whl (73 kB)\n",
            "Using cached httpcore-1.0.7-py3-none-any.whl (78 kB)\n",
            "Downloading llama_parse-0.5.20-py3-none-any.whl (16 kB)\n",
            "Using cached click-8.1.8-py3-none-any.whl (98 kB)\n",
            "Using cached networkx-3.4.2-py3-none-any.whl (1.7 MB)\n",
            "Downloading openai-1.60.0-py3-none-any.whl (456 kB)\n",
            "Using cached pillow-11.1.0-cp313-cp313-macosx_11_0_arm64.whl (3.1 MB)\n",
            "Using cached pydantic-2.10.5-py3-none-any.whl (431 kB)\n",
            "Using cached pydantic_core-2.27.2-cp313-cp313-macosx_11_0_arm64.whl (1.8 MB)\n",
            "Downloading pypdf-5.1.0-py3-none-any.whl (297 kB)\n",
            "Using cached PyYAML-6.0.2-cp313-cp313-macosx_11_0_arm64.whl (171 kB)\n",
            "Using cached regex-2024.11.6-cp313-cp313-macosx_11_0_arm64.whl (284 kB)\n",
            "Using cached requests-2.32.3-py3-none-any.whl (64 kB)\n",
            "Downloading SQLAlchemy-2.0.37-cp313-cp313-macosx_11_0_arm64.whl (2.1 MB)\n",
            "\u001b[2K   \u001b[90m━━━━━━━━━━━━━━━━━━━━━━━━━━━━━━━━━━━━━━━━\u001b[0m \u001b[32m2.1/2.1 MB\u001b[0m \u001b[31m16.2 MB/s\u001b[0m eta \u001b[36m0:00:00\u001b[0m\n",
            "\u001b[?25hDownloading striprtf-0.0.26-py3-none-any.whl (6.9 kB)\n",
            "Using cached tenacity-9.0.0-py3-none-any.whl (28 kB)\n",
            "Downloading tiktoken-0.8.0-cp313-cp313-macosx_11_0_arm64.whl (982 kB)\n",
            "\u001b[2K   \u001b[90m━━━━━━━━━━━━━━━━━━━━━━━━━━━━━━━━━━━━━━━━\u001b[0m \u001b[32m982.8/982.8 kB\u001b[0m \u001b[31m18.6 MB/s\u001b[0m eta \u001b[36m0:00:00\u001b[0m\n",
            "\u001b[?25hUsing cached tqdm-4.67.1-py3-none-any.whl (78 kB)\n",
            "Using cached typing_extensions-4.12.2-py3-none-any.whl (37 kB)\n",
            "Downloading typing_inspect-0.9.0-py3-none-any.whl (8.8 kB)\n",
            "Downloading wrapt-1.17.2-cp313-cp313-macosx_11_0_arm64.whl (38 kB)\n",
            "Downloading dataclasses_json-0.6.7-py3-none-any.whl (28 kB)\n",
            "Using cached joblib-1.4.2-py3-none-any.whl (301 kB)\n",
            "Downloading numpy-2.2.2-cp313-cp313-macosx_11_0_arm64.whl (14.1 MB)\n",
            "\u001b[2K   \u001b[90m━━━━━━━━━━━━━━━━━━━━━━━━━━━━━━━━━━━━━━━━\u001b[0m \u001b[32m14.1/14.1 MB\u001b[0m \u001b[31m36.5 MB/s\u001b[0m eta \u001b[36m0:00:00\u001b[0m \u001b[36m0:00:01\u001b[0m\n",
            "\u001b[?25hUsing cached pandas-2.2.3-cp313-cp313-macosx_11_0_arm64.whl (11.3 MB)\n",
            "Using cached aiohappyeyeballs-2.4.4-py3-none-any.whl (14 kB)\n",
            "Using cached aiosignal-1.3.2-py2.py3-none-any.whl (7.6 kB)\n",
            "Using cached annotated_types-0.7.0-py3-none-any.whl (13 kB)\n",
            "Using cached anyio-4.8.0-py3-none-any.whl (96 kB)\n",
            "Using cached attrs-24.3.0-py3-none-any.whl (63 kB)\n",
            "Using cached certifi-2024.12.14-py3-none-any.whl (164 kB)\n",
            "Using cached charset_normalizer-3.4.1-cp313-cp313-macosx_10_13_universal2.whl (195 kB)\n",
            "Using cached distro-1.9.0-py3-none-any.whl (20 kB)\n",
            "Using cached frozenlist-1.5.0-cp313-cp313-macosx_11_0_arm64.whl (50 kB)\n",
            "Downloading greenlet-3.1.1-cp313-cp313-macosx_11_0_universal2.whl (272 kB)\n",
            "Using cached idna-3.10-py3-none-any.whl (70 kB)\n",
            "Downloading jiter-0.8.2-cp313-cp313-macosx_11_0_arm64.whl (309 kB)\n",
            "Downloading marshmallow-3.26.0-py3-none-any.whl (50 kB)\n",
            "Using cached multidict-6.1.0-cp313-cp313-macosx_11_0_arm64.whl (29 kB)\n",
            "Downloading mypy_extensions-1.0.0-py3-none-any.whl (4.7 kB)\n",
            "Using cached propcache-0.2.1-cp313-cp313-macosx_11_0_arm64.whl (44 kB)\n",
            "Using cached pytz-2024.2-py2.py3-none-any.whl (508 kB)\n",
            "Using cached sniffio-1.3.1-py3-none-any.whl (10 kB)\n",
            "Downloading soupsieve-2.6-py3-none-any.whl (36 kB)\n",
            "Downloading tzdata-2025.1-py2.py3-none-any.whl (346 kB)\n",
            "Using cached urllib3-2.3.0-py3-none-any.whl (128 kB)\n",
            "Using cached yarl-1.18.3-cp313-cp313-macosx_11_0_arm64.whl (91 kB)\n",
            "Using cached h11-0.14.0-py3-none-any.whl (58 kB)\n",
            "Installing collected packages: striprtf, pytz, filetype, dirtyjson, wrapt, urllib3, tzdata, typing-extensions, tqdm, tenacity, soupsieve, sniffio, regex, PyYAML, pypdf, propcache, pillow, numpy, networkx, mypy-extensions, multidict, marshmallow, joblib, jiter, idna, h11, greenlet, fsspec, frozenlist, distro, click, charset-normalizer, certifi, attrs, annotated-types, aiohappyeyeballs, yarl, typing-inspect, SQLAlchemy, requests, pydantic-core, pandas, nltk, httpcore, deprecated, beautifulsoup4, anyio, aiosignal, tiktoken, pydantic, httpx, dataclasses-json, aiohttp, openai, llama-index-core, llama-cloud, llama-parse, llama-index-readers-file, llama-index-llms-openai, llama-index-indices-managed-llama-cloud, llama-index-embeddings-openai, llama-index-readers-llama-parse, llama-index-multi-modal-llms-openai, llama-index-cli, llama-index-agent-openai, llama-index-program-openai, llama-index-question-gen-openai, llama-index\n",
            "Successfully installed PyYAML-6.0.2 SQLAlchemy-2.0.37 aiohappyeyeballs-2.4.4 aiohttp-3.11.11 aiosignal-1.3.2 annotated-types-0.7.0 anyio-4.8.0 attrs-24.3.0 beautifulsoup4-4.12.3 certifi-2024.12.14 charset-normalizer-3.4.1 click-8.1.8 dataclasses-json-0.6.7 deprecated-1.2.15 dirtyjson-1.0.8 distro-1.9.0 filetype-1.2.0 frozenlist-1.5.0 fsspec-2024.12.0 greenlet-3.1.1 h11-0.14.0 httpcore-1.0.7 httpx-0.28.1 idna-3.10 jiter-0.8.2 joblib-1.4.2 llama-cloud-0.1.10 llama-index-0.12.13 llama-index-agent-openai-0.4.2 llama-index-cli-0.4.0 llama-index-core-0.12.13 llama-index-embeddings-openai-0.3.1 llama-index-indices-managed-llama-cloud-0.6.4 llama-index-llms-openai-0.3.14 llama-index-multi-modal-llms-openai-0.4.2 llama-index-program-openai-0.3.1 llama-index-question-gen-openai-0.3.0 llama-index-readers-file-0.4.4 llama-index-readers-llama-parse-0.4.0 llama-parse-0.5.20 marshmallow-3.26.0 multidict-6.1.0 mypy-extensions-1.0.0 networkx-3.4.2 nltk-3.9.1 numpy-2.2.2 openai-1.60.0 pandas-2.2.3 pillow-11.1.0 propcache-0.2.1 pydantic-2.10.5 pydantic-core-2.27.2 pypdf-5.1.0 pytz-2024.2 regex-2024.11.6 requests-2.32.3 sniffio-1.3.1 soupsieve-2.6 striprtf-0.0.26 tenacity-9.0.0 tiktoken-0.8.0 tqdm-4.67.1 typing-extensions-4.12.2 typing-inspect-0.9.0 tzdata-2025.1 urllib3-2.3.0 wrapt-1.17.2 yarl-1.18.3\n",
            "Note: you may need to restart the kernel to use updated packages.\n",
            "Requirement already satisfied: llama-parse in ./.venv/lib/python3.13/site-packages (0.5.20)\n",
            "Requirement already satisfied: click<9.0.0,>=8.1.7 in ./.venv/lib/python3.13/site-packages (from llama-parse) (8.1.8)\n",
            "Requirement already satisfied: llama-index-core>=0.11.0 in ./.venv/lib/python3.13/site-packages (from llama-parse) (0.12.13)\n",
            "Requirement already satisfied: pydantic!=2.10 in ./.venv/lib/python3.13/site-packages (from llama-parse) (2.10.5)\n",
            "Requirement already satisfied: PyYAML>=6.0.1 in ./.venv/lib/python3.13/site-packages (from llama-index-core>=0.11.0->llama-parse) (6.0.2)\n",
            "Requirement already satisfied: SQLAlchemy>=1.4.49 in ./.venv/lib/python3.13/site-packages (from SQLAlchemy[asyncio]>=1.4.49->llama-index-core>=0.11.0->llama-parse) (2.0.37)\n",
            "Requirement already satisfied: aiohttp<4.0.0,>=3.8.6 in ./.venv/lib/python3.13/site-packages (from llama-index-core>=0.11.0->llama-parse) (3.11.11)\n",
            "Requirement already satisfied: dataclasses-json in ./.venv/lib/python3.13/site-packages (from llama-index-core>=0.11.0->llama-parse) (0.6.7)\n",
            "Requirement already satisfied: deprecated>=1.2.9.3 in ./.venv/lib/python3.13/site-packages (from llama-index-core>=0.11.0->llama-parse) (1.2.15)\n",
            "Requirement already satisfied: dirtyjson<2.0.0,>=1.0.8 in ./.venv/lib/python3.13/site-packages (from llama-index-core>=0.11.0->llama-parse) (1.0.8)\n",
            "Requirement already satisfied: filetype<2.0.0,>=1.2.0 in ./.venv/lib/python3.13/site-packages (from llama-index-core>=0.11.0->llama-parse) (1.2.0)\n",
            "Requirement already satisfied: fsspec>=2023.5.0 in ./.venv/lib/python3.13/site-packages (from llama-index-core>=0.11.0->llama-parse) (2024.12.0)\n",
            "Requirement already satisfied: httpx in ./.venv/lib/python3.13/site-packages (from llama-index-core>=0.11.0->llama-parse) (0.28.1)\n",
            "Requirement already satisfied: nest-asyncio<2.0.0,>=1.5.8 in ./.venv/lib/python3.13/site-packages (from llama-index-core>=0.11.0->llama-parse) (1.6.0)\n",
            "Requirement already satisfied: networkx>=3.0 in ./.venv/lib/python3.13/site-packages (from llama-index-core>=0.11.0->llama-parse) (3.4.2)\n",
            "Requirement already satisfied: nltk>3.8.1 in ./.venv/lib/python3.13/site-packages (from llama-index-core>=0.11.0->llama-parse) (3.9.1)\n",
            "Requirement already satisfied: numpy in ./.venv/lib/python3.13/site-packages (from llama-index-core>=0.11.0->llama-parse) (2.2.2)\n",
            "Requirement already satisfied: pillow>=9.0.0 in ./.venv/lib/python3.13/site-packages (from llama-index-core>=0.11.0->llama-parse) (11.1.0)\n",
            "Requirement already satisfied: requests>=2.31.0 in ./.venv/lib/python3.13/site-packages (from llama-index-core>=0.11.0->llama-parse) (2.32.3)\n",
            "Requirement already satisfied: tenacity!=8.4.0,<10.0.0,>=8.2.0 in ./.venv/lib/python3.13/site-packages (from llama-index-core>=0.11.0->llama-parse) (9.0.0)\n",
            "Requirement already satisfied: tiktoken>=0.3.3 in ./.venv/lib/python3.13/site-packages (from llama-index-core>=0.11.0->llama-parse) (0.8.0)\n",
            "Requirement already satisfied: tqdm<5.0.0,>=4.66.1 in ./.venv/lib/python3.13/site-packages (from llama-index-core>=0.11.0->llama-parse) (4.67.1)\n",
            "Requirement already satisfied: typing-extensions>=4.5.0 in ./.venv/lib/python3.13/site-packages (from llama-index-core>=0.11.0->llama-parse) (4.12.2)\n",
            "Requirement already satisfied: typing-inspect>=0.8.0 in ./.venv/lib/python3.13/site-packages (from llama-index-core>=0.11.0->llama-parse) (0.9.0)\n",
            "Requirement already satisfied: wrapt in ./.venv/lib/python3.13/site-packages (from llama-index-core>=0.11.0->llama-parse) (1.17.2)\n",
            "Requirement already satisfied: annotated-types>=0.6.0 in ./.venv/lib/python3.13/site-packages (from pydantic!=2.10->llama-parse) (0.7.0)\n",
            "Requirement already satisfied: pydantic-core==2.27.2 in ./.venv/lib/python3.13/site-packages (from pydantic!=2.10->llama-parse) (2.27.2)\n",
            "Requirement already satisfied: aiohappyeyeballs>=2.3.0 in ./.venv/lib/python3.13/site-packages (from aiohttp<4.0.0,>=3.8.6->llama-index-core>=0.11.0->llama-parse) (2.4.4)\n",
            "Requirement already satisfied: aiosignal>=1.1.2 in ./.venv/lib/python3.13/site-packages (from aiohttp<4.0.0,>=3.8.6->llama-index-core>=0.11.0->llama-parse) (1.3.2)\n",
            "Requirement already satisfied: attrs>=17.3.0 in ./.venv/lib/python3.13/site-packages (from aiohttp<4.0.0,>=3.8.6->llama-index-core>=0.11.0->llama-parse) (24.3.0)\n",
            "Requirement already satisfied: frozenlist>=1.1.1 in ./.venv/lib/python3.13/site-packages (from aiohttp<4.0.0,>=3.8.6->llama-index-core>=0.11.0->llama-parse) (1.5.0)\n",
            "Requirement already satisfied: multidict<7.0,>=4.5 in ./.venv/lib/python3.13/site-packages (from aiohttp<4.0.0,>=3.8.6->llama-index-core>=0.11.0->llama-parse) (6.1.0)\n",
            "Requirement already satisfied: propcache>=0.2.0 in ./.venv/lib/python3.13/site-packages (from aiohttp<4.0.0,>=3.8.6->llama-index-core>=0.11.0->llama-parse) (0.2.1)\n",
            "Requirement already satisfied: yarl<2.0,>=1.17.0 in ./.venv/lib/python3.13/site-packages (from aiohttp<4.0.0,>=3.8.6->llama-index-core>=0.11.0->llama-parse) (1.18.3)\n",
            "Requirement already satisfied: joblib in ./.venv/lib/python3.13/site-packages (from nltk>3.8.1->llama-index-core>=0.11.0->llama-parse) (1.4.2)\n",
            "Requirement already satisfied: regex>=2021.8.3 in ./.venv/lib/python3.13/site-packages (from nltk>3.8.1->llama-index-core>=0.11.0->llama-parse) (2024.11.6)\n",
            "Requirement already satisfied: charset-normalizer<4,>=2 in ./.venv/lib/python3.13/site-packages (from requests>=2.31.0->llama-index-core>=0.11.0->llama-parse) (3.4.1)\n",
            "Requirement already satisfied: idna<4,>=2.5 in ./.venv/lib/python3.13/site-packages (from requests>=2.31.0->llama-index-core>=0.11.0->llama-parse) (3.10)\n",
            "Requirement already satisfied: urllib3<3,>=1.21.1 in ./.venv/lib/python3.13/site-packages (from requests>=2.31.0->llama-index-core>=0.11.0->llama-parse) (2.3.0)\n",
            "Requirement already satisfied: certifi>=2017.4.17 in ./.venv/lib/python3.13/site-packages (from requests>=2.31.0->llama-index-core>=0.11.0->llama-parse) (2024.12.14)\n",
            "Requirement already satisfied: greenlet!=0.4.17 in ./.venv/lib/python3.13/site-packages (from SQLAlchemy[asyncio]>=1.4.49->llama-index-core>=0.11.0->llama-parse) (3.1.1)\n",
            "Requirement already satisfied: mypy-extensions>=0.3.0 in ./.venv/lib/python3.13/site-packages (from typing-inspect>=0.8.0->llama-index-core>=0.11.0->llama-parse) (1.0.0)\n",
            "Requirement already satisfied: marshmallow<4.0.0,>=3.18.0 in ./.venv/lib/python3.13/site-packages (from dataclasses-json->llama-index-core>=0.11.0->llama-parse) (3.26.0)\n",
            "Requirement already satisfied: anyio in ./.venv/lib/python3.13/site-packages (from httpx->llama-index-core>=0.11.0->llama-parse) (4.8.0)\n",
            "Requirement already satisfied: httpcore==1.* in ./.venv/lib/python3.13/site-packages (from httpx->llama-index-core>=0.11.0->llama-parse) (1.0.7)\n",
            "Requirement already satisfied: h11<0.15,>=0.13 in ./.venv/lib/python3.13/site-packages (from httpcore==1.*->httpx->llama-index-core>=0.11.0->llama-parse) (0.14.0)\n",
            "Requirement already satisfied: packaging>=17.0 in ./.venv/lib/python3.13/site-packages (from marshmallow<4.0.0,>=3.18.0->dataclasses-json->llama-index-core>=0.11.0->llama-parse) (24.2)\n",
            "Requirement already satisfied: sniffio>=1.1 in ./.venv/lib/python3.13/site-packages (from anyio->httpx->llama-index-core>=0.11.0->llama-parse) (1.3.1)\n",
            "Note: you may need to restart the kernel to use updated packages.\n"
          ]
        }
      ],
      "source": [
        "%pip install llama-index\n",
        "%pip install llama-parse"
      ]
    },
    {
      "cell_type": "code",
      "execution_count": 1,
      "metadata": {
        "id": "WPrzVpr5wDiW"
      },
      "outputs": [
        {
          "data": {
            "text/plain": [
              "True"
            ]
          },
          "execution_count": 1,
          "metadata": {},
          "output_type": "execute_result"
        }
      ],
      "source": [
        "import nest_asyncio\n",
        "\n",
        "from llama_index.llms.openai import OpenAI\n",
        "from llama_index.core import VectorStoreIndex\n",
        "from IPython.display import Image, Markdown\n",
        "from dotenv import load_dotenv\n",
        "from llama_parse import LlamaParse\n",
        "\n",
        "from llama_index.core.node_parser import MarkdownElementNodeParser\n",
        "\n",
        "load_dotenv()\n"
      ]
    },
    {
      "cell_type": "code",
      "execution_count": 2,
      "metadata": {
        "id": "wfp2mkkjw23j"
      },
      "outputs": [],
      "source": [
        "# llama-parse is async-first, running the async code in a notebook requires the use of nest_asyncio\n",
        "nest_asyncio.apply()"
      ]
    },
    {
      "cell_type": "code",
      "execution_count": 3,
      "metadata": {
        "id": "K3qEVMuWxEh0"
      },
      "outputs": [],
      "source": [
        "import os\n",
        "\n",
        "os.environ[\"OPENAI_API_KEY\"] = os.getenv(\"OPENAI_API_KEY\")\n",
        "\n",
        "llm_o1 = OpenAI(model=\"o1-mini\")\n",
        "llm_gpt4o_mini = OpenAI(model=\"gpt-4o-mini\")\n",
        "llm_o1_preview = OpenAI(model=\"o1-preview\")"
      ]
    },
    {
      "cell_type": "code",
      "execution_count": 4,
      "metadata": {
        "colab": {
          "base_uri": "https://localhost:8080/"
        },
        "id": "l3BPuAQKxdRD",
        "outputId": "83150537-2408-409a-c7da-968c4a087a02"
      },
      "outputs": [
        {
          "name": "stdout",
          "output_type": "stream",
          "text": [
            "Error while parsing the file '/content/sample_data/Financial_Report.xlsx': [Errno 2] No such file or directory: '/content/sample_data/Financial_Report.xlsx'\n",
            "Error while parsing the file '/content/sample_data/Financial_Report (1).xlsx': [Errno 2] No such file or directory: '/content/sample_data/Financial_Report (1).xlsx'\n",
            "Error while parsing the file '/content/sample_data/Financial_Report (2).xlsx': [Errno 2] No such file or directory: '/content/sample_data/Financial_Report (2).xlsx'\n",
            "Error while parsing the file '/content/sample_data/Financial_Report (3).xlsx': [Errno 2] No such file or directory: '/content/sample_data/Financial_Report (3).xlsx'\n",
            "Error while parsing the file '/content/sample_data/Financial_Report.xlsx': [Errno 2] No such file or directory: '/content/sample_data/Financial_Report.xlsx'\n"
          ]
        }
      ],
      "source": [
        "parser = LlamaParse(\n",
        "    api_key=os.getenv(\"LLAMA_KEY\"),\n",
        "    result_type=\"markdown\",\n",
        ")\n",
        "\n",
        "excel_files = [\n",
        "    \"/Users/jeffreyjeyachandren/Desktop/tpm_assessment_insurance_proj/data/Financial_Report.xlsx\",\n",
        "    \"/Users/jeffreyjeyachandren/Desktop/tpm_assessment_insurance_proj/data/Financial_Report (1).xlsx\",\n",
        "    \"/Users/jeffreyjeyachandren/Desktop/tpm_assessment_insurance_proj/data/Financial_Report (2).xlsx\",\n",
        "    \"/Users/jeffreyjeyachandren/Desktop/tpm_assessment_insurance_proj/data/Financial_Report (3).xlsx\",\n",
        "]\n",
        "\n",
        "# Initialize an empty list to store all documents\n",
        "all_documents = []\n",
        "\n",
        "# Load each Excel file and extend the documents list\n",
        "for file_path in excel_files:\n",
        "    documents = parser.load_data(file_path)\n",
        "    all_documents.extend(documents)\n"
      ]
    },
    {
      "cell_type": "code",
      "execution_count": 7,
      "metadata": {
        "colab": {
          "base_uri": "https://localhost:8080/"
        },
        "id": "m-SfSOGA29P8",
        "outputId": "8abbce53-d9b6-43c0-e165-ed31d9e23f54"
      },
      "outputs": [
        {
          "data": {
            "text/plain": [
              "123"
            ]
          },
          "execution_count": 7,
          "metadata": {},
          "output_type": "execute_result"
        }
      ],
      "source": [
        "len(all_documents)\n"
      ]
    },
    {
      "cell_type": "code",
      "execution_count": 8,
      "metadata": {
        "id": "RHZiEEqz3GjV"
      },
      "outputs": [],
      "source": [
        "node_parser = MarkdownElementNodeParser(llm=llm_gpt4o_mini, num_workers=4)\n"
      ]
    },
    {
      "cell_type": "code",
      "execution_count": 9,
      "metadata": {
        "colab": {
          "base_uri": "https://localhost:8080/"
        },
        "id": "lDQDLpEm3myA",
        "outputId": "5ac665ec-a225-4118-b3a6-d7156095980e"
      },
      "outputs": [
        {
          "name": "stderr",
          "output_type": "stream",
          "text": [
            "1it [00:00, 458.24it/s]\n",
            "1it [00:00, 996.51it/s]\n",
            "1it [00:00, 7825.19it/s]\n",
            "1it [00:00, 7206.71it/s]\n",
            "1it [00:00, 6452.78it/s]\n",
            "1it [00:00, 9383.23it/s]\n",
            "1it [00:00, 2904.64it/s]\n",
            "1it [00:00, 4691.62it/s]\n",
            "1it [00:00, 719.31it/s]\n",
            "1it [00:00, 2091.92it/s]\n"
          ]
        }
      ],
      "source": [
        "nodes = node_parser.get_nodes_from_documents(all_documents)\n"
      ]
    },
    {
      "cell_type": "code",
      "execution_count": 10,
      "metadata": {
        "id": "AlRYwcUV4MW7"
      },
      "outputs": [],
      "source": [
        "base_nodes, objects = node_parser.get_nodes_and_objects(nodes)\n"
      ]
    },
    {
      "cell_type": "code",
      "execution_count": 11,
      "metadata": {
        "colab": {
          "base_uri": "https://localhost:8080/"
        },
        "id": "YIADh3Jo4gMn",
        "outputId": "21010c35-3e62-428a-c56a-f56d2ee3ea2c"
      },
      "outputs": [
        {
          "data": {
            "text/plain": [
              "(30, 10, 10)"
            ]
          },
          "execution_count": 11,
          "metadata": {},
          "output_type": "execute_result"
        }
      ],
      "source": [
        "len(nodes), len(base_nodes), len(objects)\n"
      ]
    },
    {
      "cell_type": "code",
      "execution_count": 12,
      "metadata": {
        "colab": {
          "base_uri": "https://localhost:8080/"
        },
        "id": "ysSaOvXt4kVM",
        "outputId": "0ec0808f-8e61-4b2a-d1b0-7c3540d16c74"
      },
      "outputs": [
        {
          "name": "stdout",
          "output_type": "stream",
          "text": [
            "This table presents the Consolidated Statement of Comprehensive Income (Loss) for a company over three years, detailing net income and various components of other comprehensive income, including unrealized gains and losses on investments, changes in benefit plan assets, and foreign currency translation adjustments.,\n",
            "with the following table title:\n",
            "Consolidated Statement of Comprehensive Income (Loss) - USD ($) $ in Millions,\n",
            "with the following columns:\n",
            "- Net income: Represents the company's profit for the period.\n",
            "- Other comprehensive income (loss): Includes various gains and losses not included in net income.\n",
            "- Comprehensive income (loss): Total income including net income and other comprehensive income.\n",
            "\n"
          ]
        }
      ],
      "source": [
        "print(objects[3].get_content())\n"
      ]
    },
    {
      "cell_type": "code",
      "execution_count": 13,
      "metadata": {
        "id": "Epih2YWC4_Jg"
      },
      "outputs": [],
      "source": [
        "# dump both indexed tables and page text into the vector index\n",
        "recursive_index = VectorStoreIndex(nodes=base_nodes + objects, llm=llm_gpt4o_mini)\n",
        "\n",
        "recursive_query_engine_gpt4o_mini = recursive_index.as_query_engine(\n",
        "    similarity_top_k=5, llm=llm_gpt4o_mini\n",
        ")"
      ]
    },
    {
      "cell_type": "code",
      "execution_count": 16,
      "metadata": {
        "id": "AMAmdvdb6Cz1"
      },
      "outputs": [],
      "source": [
        "query = \"What are the causes driving the largest amount of losses?\"\n",
        "\n",
        "response_recursive_gpt4o_mini = recursive_query_engine_gpt4o_mini.query(query)"
      ]
    },
    {
      "cell_type": "code",
      "execution_count": 18,
      "metadata": {
        "colab": {
          "base_uri": "https://localhost:8080/",
          "height": 116
        },
        "id": "e-E8RGlG7Z7u",
        "outputId": "90a8c218-09d8-4fbc-8289-5eade222d887"
      },
      "outputs": [
        {
          "name": "stdout",
          "output_type": "stream",
          "text": [
            "----------------------RESPONSE WITH GPT4O-MINI----------------------\n"
          ]
        },
        {
          "data": {
            "text/markdown": [
              "The largest amount of losses can be attributed to several factors, including significant unrealized losses on investment securities, particularly those classified as having no credit losses recognized. Additionally, changes in benefit plan assets and obligations, as well as foreign currency translation adjustments, have contributed to the overall comprehensive income (loss). The fluctuations in these areas can lead to substantial impacts on the company's financial performance, as reflected in the other comprehensive income (loss) figures."
            ],
            "text/plain": [
              "<IPython.core.display.Markdown object>"
            ]
          },
          "metadata": {},
          "output_type": "display_data"
        }
      ],
      "source": [
        "print(\"----------------------RESPONSE WITH GPT4O-MINI----------------------\")\n",
        "display(Markdown(f\"{response_recursive_gpt4o_mini}\"))"
      ]
    },
    {
      "cell_type": "code",
      "execution_count": 20,
      "metadata": {
        "colab": {
          "base_uri": "https://localhost:8080/"
        },
        "id": "fiDEnHQt7r7C",
        "outputId": "1d46a24b-a3eb-4ef7-dc77-0baf915f1b7e"
      },
      "outputs": [
        {
          "name": "stdout",
          "output_type": "stream",
          "text": [
            "This table presents the Consolidated Statement of Comprehensive Income (Loss) for a company over three years, detailing net income and various components of other comprehensive income, including unrealized gains and losses on investments, changes in benefit plan assets, and foreign currency translation adjustments.,\n",
            "with the following table title:\n",
            "Consolidated Statement of Comprehensive Income (Loss) - USD ($) $ in Millions,\n",
            "with the following columns:\n",
            "- Net income: Represents the company's profit for the period.\n",
            "- Other comprehensive income (loss): Includes various gains and losses not included in net income.\n",
            "- Comprehensive income (loss): Total income including net income and other comprehensive income.\n",
            "\n",
            "|Consolidated Statement of Comprehensive Income (Loss) - USD ($) $ in Millions|12 Months Ended|             |             .1|\n",
            "|---|---|---|---|\n",
            "| |Dec. 31, 2023  |Dec. 31, 2022|Dec. 31, 2021|\n",
            "|Statement of Comprehensive Income [Abstract]|               |             |             |\n",
            "|Net income|$ 2,991        |$ 2,842      |$ 3,662      |\n",
            "|Other comprehensive income (loss):|               |             |             |\n",
            "|Changes in net unrealized gains (losses) on investment securities having no credit losses recognized in the consolidated statement of income|2,249          |(9,276)      |(2,115)      |\n",
            "|Changes in net unrealized gains (losses) on investment securities having credit losses recognized in the consolidated statement of income|1              |(4)          |0            |\n",
            "|Net changes in benefit plan assets and obligations|106            |(87)         |455          |\n",
            "|Net changes in unrealized foreign currency translation|138            |(273)        |(11)         |\n",
            "|Other comprehensive income (loss) before income taxes|2,494          |(9,640)      |(1,671)      |\n",
            "|Income tax expense (benefit)|520            |(2,002)      |(362)        |\n",
            "|Other comprehensive income (loss), net of taxes|1,974          |(7,638)      |(1,309)      |\n",
            "|Comprehensive income (loss)|$ 4,965        |$ (4,796)    |$ 2,353      |\n",
            "\n"
          ]
        }
      ],
      "source": [
        "print(response_recursive_gpt4o_mini.source_nodes[0].get_content())\n"
      ]
    }
  ],
  "metadata": {
    "colab": {
      "provenance": []
    },
    "kernelspec": {
      "display_name": "Python 3",
      "name": "python3"
    },
    "language_info": {
      "codemirror_mode": {
        "name": "ipython",
        "version": 3
      },
      "file_extension": ".py",
      "mimetype": "text/x-python",
      "name": "python",
      "nbconvert_exporter": "python",
      "pygments_lexer": "ipython3",
      "version": "3.13.1"
    }
  },
  "nbformat": 4,
  "nbformat_minor": 0
}
